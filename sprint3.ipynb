{
 "cells": [
  {
   "attachments": {},
   "cell_type": "markdown",
   "metadata": {},
   "source": [
    "# Sprint 03. Functions"
   ]
  },
  {
   "attachments": {},
   "cell_type": "markdown",
   "metadata": {},
   "source": [
    "## Task 1\n",
    "Create function with name outer(name). This function should return inner function with name inner.\n",
    "This inner function prints message Hello, <name>!\n",
    "For example \n",
    "tom = outer(\"tom\")\n",
    "tom() -> Hello, tom!\n",
    "\n",
    "##### **SOLUTION:**\n"
   ]
  },
  {
   "cell_type": "code",
   "execution_count": null,
   "metadata": {},
   "outputs": [],
   "source": [
    "def outer(name):\n",
    "    def inner():\n",
    "        print(f'Hello, {name}!')\n",
    "    return inner\n",
    "        "
   ]
  },
  {
   "attachments": {},
   "cell_type": "markdown",
   "metadata": {},
   "source": [
    "## Task 2\n",
    "Create function create with one string argument. This function should return anonymous function that checks if the argument of function is equals to the argument of outer function. \n",
    "\n",
    "\n",
    "\n",
    "For example: \n",
    "\n",
    " tom = create(\"pass_for_Tom\") \n",
    "\n",
    " tom(\"pass_for_Tom\") returns true \n",
    "\n",
    " tom(\"pass_for_tom\") returns false\n",
    "\n",
    " ##### **SOLUTION:**"
   ]
  },
  {
   "cell_type": "code",
   "execution_count": null,
   "metadata": {},
   "outputs": [],
   "source": [
    "def create(string):\n",
    "    return lambda x:x==string"
   ]
  },
  {
   "attachments": {},
   "cell_type": "markdown",
   "metadata": {},
   "source": [
    "## Task 3 \n",
    "Create function create_account(user_name: string, password: string, secret_words: list). This function should return inner function check.\n",
    "\n",
    "The function check compares the values of its arguments with password and secret_words: the password must match completely, secret_words may be misspelled (just one element).\n",
    "\n",
    "Password should contain at least 6 symbols including one uppercase letter, one lowercase letter,  special character and one number.\n",
    "\n",
    "Otherwise function create_account raises ValueError. \n",
    "\n",
    "\n",
    "\n",
    "For example: \n",
    "\n",
    "tom = create_account(\"Tom\", \"Qwerty1\", [\"1\", \"word\"]) raises Value error \n",
    "\n",
    "\n",
    "\n",
    "If tom = create_account(\"Tom\", \"Qwerty1_\", [\"1\", \"word\"])  \n",
    "\n",
    "then \n",
    "\n",
    "tom(\"Qwerty1_\",  [\"1\", \"word\"]) return True \n",
    "\n",
    "tom(\"Qwerty1_\",  [\"word\"]) return False due to different length of   [\"1\", \"word\"] and  [\"word\"]\n",
    "\n",
    "tom(\"Qwerty1_\",  [\"word\", \"12\"]) return True\n",
    "\n",
    "tom(\"Qwerty1!\",  [\"word\", \"1\"]) return False because \"Qwerty1!\" not equals to \"Qwerty1_\"\n",
    "\n",
    "##### **SOLUTION:**"
   ]
  },
  {
   "cell_type": "code",
   "execution_count": null,
   "metadata": {},
   "outputs": [],
   "source": [
    "from string import *\n",
    "def create_account(user_name: str, password: str, secret_words: list):\n",
    "    if len(password)<6 or not(any(i in ascii_lowercase for i in password))\\\n",
    "       or not(any(i in ascii_uppercase for i in password))\\\n",
    "    or not(any(i in punctuation for i in password)) or not(any(i in digits for i in password)):\n",
    "        raise ValueError\n",
    "    def check(try_password:str,try_secret_words:list):\n",
    "        if password!=try_password or len(secret_words)!=len(try_secret_words):\n",
    "            return False\n",
    "        if len(set(try_secret_words))+1<len(secret_words):\n",
    "            return False\n",
    "        if len([i for i in try_secret_words if i not in secret_words])>1:\n",
    "            return False\n",
    "        return True\n",
    "    return check\n",
    "tom = create_account(\"Tom\", \"Qwerty1_\", [\"1\", \"word\"])  \n",
    "check1 = tom(\"Qwerty1_\",  [\"1\", \"word\"]) \n",
    "check2 = tom(\"Qwerty1_\",  [\"word\"]) \n",
    "check3 = tom(\"Qwerty1_\",  [\"word\", \"2\"]) \n",
    "check4 = tom(\"Qwerty1!\",  [\"word\", \"12\"]) "
   ]
  },
  {
   "attachments": {},
   "cell_type": "markdown",
   "metadata": {},
   "source": [
    "## Task 4\n",
    "Create function-generator divisor that should return all divisors of the positive number.\n",
    "If there are no divisors left function should return None.\n",
    "three = divisor(3)\n",
    "next(three) => 1\n",
    "next(three) => 3\n",
    "next(three) => None\n",
    "\n",
    "##### **SOLUTION:**"
   ]
  },
  {
   "cell_type": "code",
   "execution_count": null,
   "metadata": {},
   "outputs": [],
   "source": [
    "def divisor(num):\n",
    "    for i in range(1, num + 1):\n",
    "        if num%i==0:\n",
    "            yield i\n",
    "    while True:\n",
    "        yield None"
   ]
  },
  {
   "attachments": {},
   "cell_type": "markdown",
   "metadata": {},
   "source": [
    "## Task 5\n",
    "Create decorator logger. The decorator should print to the console information about function's name and all its arguments separated with ',' for the function decorated with logger.\n",
    "\n",
    "Create function concat with any numbers of any arguments which concatenates arguments and apply logger decorator for this function. \n",
    "\n",
    "For example\n",
    "\n",
    "print(concat(2, 3)) display\n",
    "Executing of function concat with arguments 2, 3...\n",
    "23\n",
    "\n",
    "print(concat('hello', 2)) display\n",
    "Executing of function concat with arguments hello, 2...\n",
    "hello2\n",
    "\n",
    "print(concat (first = 'one', second = 'two')) display\n",
    "Executing of function concat with arguments one, two...\n",
    "onetwo\n",
    "\n",
    "##### **SOLUTION:**"
   ]
  },
  {
   "cell_type": "code",
   "execution_count": null,
   "metadata": {},
   "outputs": [],
   "source": [
    "def logger(func):\n",
    "    def wrapper(*args,**kwargs):\n",
    "        res=func(*args,**kwargs)\n",
    "        output=[str(i) for i in args]+[str(value) for key,value in kwargs.items()]\n",
    "        print(f\"Executing of function {func.__name__} with arguments {', '.join(output)}...\")\n",
    "        return res\n",
    "\n",
    "    return wrapper\n",
    "\n",
    "@logger   \n",
    "def concat(*args,**kwargs):\n",
    "    result=''\n",
    "    for i in args:\n",
    "        result+=str(i)\n",
    "    for key,value in kwargs.items():\n",
    "        result+=str(value)\n",
    "    return result\n",
    "\n",
    "@logger\n",
    "def sum(a,b):\n",
    "    return a+b\n",
    "    \n",
    "@logger\n",
    "def print_arg(arg):\n",
    "    print(arg)"
   ]
  },
  {
   "attachments": {},
   "cell_type": "markdown",
   "metadata": {},
   "source": [
    "## Task 6\n",
    "Generator function randomWord has as an argument list of words. It should return any random word from this list. Each time words are different until the end of the list is reached. Then words are taken from the initial list again.\n",
    "\n",
    "\n",
    "For example if \n",
    "\n",
    "list = ['book', 'apple', 'word']\n",
    "\n",
    "books = randomWord(list)\n",
    "\n",
    "then possible output example \n",
    "\n",
    "first call of next(books) returns apple\n",
    "\n",
    "second call of next(books) returns book\n",
    "\n",
    "third call of next(books) returns word\n",
    "\n",
    "fourth call of next(books) returns book\n",
    "\n",
    "##### **SOLUTION:**"
   ]
  },
  {
   "cell_type": "code",
   "execution_count": null,
   "metadata": {},
   "outputs": [],
   "source": [
    "from random import *\n",
    "def randomWord(data):\n",
    "    data_cp=list(data)\n",
    "    shuffle(data_cp)\n",
    "    if not data_cp:\n",
    "            while True:\n",
    "                yield None\n",
    "    data_cp=list(data)\n",
    "    shuffle(data_cp)\n",
    "    while True:\n",
    "        if not data_cp:\n",
    "            data_cp=list(data)\n",
    "            shuffle(data_cp)\n",
    "        yield data_cp.pop()"
   ]
  }
 ],
 "metadata": {
  "kernelspec": {
   "display_name": "Python 3",
   "language": "python",
   "name": "python3"
  },
  "language_info": {
   "name": "python",
   "version": "3.10.4 (tags/v3.10.4:9d38120, Mar 23 2022, 23:13:41) [MSC v.1929 64 bit (AMD64)]"
  },
  "orig_nbformat": 4,
  "vscode": {
   "interpreter": {
    "hash": "8728e009dc4827959d0cd0ea26bc6c3b22d334d9e49d904647d9110e18c0d7ef"
   }
  }
 },
 "nbformat": 4,
 "nbformat_minor": 2
}
