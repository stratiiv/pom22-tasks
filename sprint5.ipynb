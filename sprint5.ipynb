{
 "cells": [
  {
   "attachments": {},
   "cell_type": "markdown",
   "metadata": {},
   "source": [
    "# Sprint 05. Exception handling. Logging"
   ]
  },
  {
   "attachments": {},
   "cell_type": "markdown",
   "metadata": {},
   "source": [
    "## Task 1\n",
    "Write  the function divide(numerator, denominator) the two input parameters of which are numbers. The function returns the result of dividing two numbers.\n",
    "* in case of correct data the function should be displayed the corresponding message – \"Result is  numerator / denominator\" \n",
    "* in the case of division by zero the function should be displayed the corresponding message – \"Oops, numerator / denominator, division by zero is error!!!\" \n",
    "* in the case of incorrect data the function should be displayed the message – \"Value Error! You did not enter a number!\"\n",
    "\n",
    "Note: in the function you must use the \"try except\" construct. \n",
    "\n",
    "##### **SOLUTION:**\n"
   ]
  },
  {
   "cell_type": "code",
   "execution_count": null,
   "metadata": {},
   "outputs": [],
   "source": [
    "def divide(numerator, denominator):\n",
    "    try:\n",
    "        result=numerator/denominator\n",
    "        return f\"Result is {result}\" \n",
    "    except ZeroDivisionError:\n",
    "        return f\"Oops, {numerator}/{denominator}, division by zero is error!!!\"\n",
    "    except TypeError:\n",
    "        return f\"Value Error! You did not enter a number!\""
   ]
  },
  {
   "attachments": {},
   "cell_type": "markdown",
   "metadata": {},
   "source": [
    "## Task 2\n",
    "Write  the function check_number_group(number) whose input parameter is a number. The function checks whether the  set number is more than number 10:\n",
    "\n",
    "* in case the number is more than 10 the function should be displayed the corresponding message - \"Number of your group input parameter of function is valid\";\n",
    "* in case the number is less than or equal to 10 the function should be raised the exception of your own class ToSmallNumberGroupError and displayed the corresponding message - \"We obtain error: Number of your group can't be less than 10\";\n",
    "* in the case of incorrect data the function should be displayed the message - \"You entered incorrect data. Please try again.\"\n",
    "\n",
    "##### **SOLUTION:**"
   ]
  },
  {
   "cell_type": "code",
   "execution_count": null,
   "metadata": {},
   "outputs": [],
   "source": [
    "class ToSmallNumberGroupError(Exception): \n",
    "    pass\n",
    "def check_number_group(number):\n",
    "    try:\n",
    "        number=int(number)\n",
    "        if number>10:\n",
    "            return f\"Number of your group {number} is valid\"\n",
    "        if number<=10:\n",
    "            raise ToSmallNumberGroupError\n",
    "    except ValueError:\n",
    "        return \"You entered incorrect data. Please try again.\"\n",
    "    except ToSmallNumberGroupError:\n",
    "        return \"We obtain error:Number of your group can't be less than 10\"\n",
    "    "
   ]
  },
  {
   "attachments": {},
   "cell_type": "markdown",
   "metadata": {},
   "source": [
    "## Task 3\n",
    "Write  the function check_odd_even (number) whose input parameter is an integer number. The function checks whether the  set number is even or odd:\n",
    "\n",
    "* in the case of an even number the function should be displayed the corresponding message - \"Entered number is even\";\n",
    "* in the case of an odd number the function should be displayed the corresponding message -  \"Entered number is odd\";\n",
    "* in the case of incorrect data the function should be displayed the message - \"You entered not a number.\"\n",
    "\n",
    "Note: in the function you must use the \"try except\" construct. \n",
    "\n",
    "##### **SOLUTION:**"
   ]
  },
  {
   "cell_type": "code",
   "execution_count": null,
   "metadata": {},
   "outputs": [],
   "source": [
    "def check_odd_even(number):\n",
    "    try:\n",
    "        number=int(number)\n",
    "        if number%2!=0:\n",
    "            return \"Entered number is odd\"\n",
    "        else:\n",
    "            return \"Entered number is even\"\n",
    "    except ValueError:\n",
    "        return \"You entered not a number.\""
   ]
  },
  {
   "attachments": {},
   "cell_type": "markdown",
   "metadata": {},
   "source": [
    "## Task 4\n",
    "Write the function valid_email(...) to check if the input string is a valid email address or not.\n",
    "\n",
    "An email is a string (a subset of ASCII characters) separated into two parts by @ symbol, \n",
    "a “user_info” and a domain_info, that is personal_info@domain_info:\n",
    "* in case of correct email the function should be displayed the corresponding message – \"Email is valid\"\n",
    "* in case of incorrect email the function should be displayed the corresponding message – \"Email is not valid\"\n",
    "\n",
    "Note: in the function you must use the \"try except\" construct.  \n",
    "\n",
    "##### **SOLUTION:**\n"
   ]
  },
  {
   "cell_type": "code",
   "execution_count": null,
   "metadata": {},
   "outputs": [],
   "source": [
    "import re\n",
    "def valid_email(email):\n",
    "    pattern = r'^[a-z]+@[a-z.]+$'\n",
    "    try:\n",
    "        match=re.fullmatch(pattern,email)\n",
    "        if match:\n",
    "            return \"Email is valid\"\n",
    "        else:\n",
    "            raise ValueError\n",
    "    except ValueError:\n",
    "        return \"Email is not valid\""
   ]
  },
  {
   "attachments": {},
   "cell_type": "markdown",
   "metadata": {},
   "source": [
    "## Task 5\n",
    "Write  the function solve_quadric_equation(a, b, c) the three input parameters of which are numbers. The function should return \n",
    "the solution of quadratic equation ax2+bx+c=0, where coefficients a, b, c are input parameters of  the function solve_quadric_equation:\n",
    "\n",
    "* in case of correct data the function should displayed the corresponding message – \"The solution are x1=… and x2=…\"\n",
    "\n",
    "* in the case of division by zero the function should displayed the corresponding message – \"Zero Division Error\" \n",
    "\n",
    "* in the case of incorrect data the function should displayed the message – \"Could not convert string to float\"\n",
    "\n",
    "Note: in the function you must use the \"try except\" construct.  \n",
    "\n",
    "##### **SOLUTION:**"
   ]
  },
  {
   "cell_type": "code",
   "execution_count": null,
   "metadata": {},
   "outputs": [],
   "source": [
    "import cmath  \n",
    "def solve_quadric_equation(a, b, c):\n",
    "    try:\n",
    "        a,b,c=map(float,(a,b,c))\n",
    "        d = (b**2) - (4*a*c)  \n",
    "        x1 = (-b-cmath.sqrt(d))/(2*a)  \n",
    "        x2 = (-b+cmath.sqrt(d))/(2*a)\n",
    "        return f\"The solution are x1={x1} and x2={x2}\"\n",
    "    except ValueError:\n",
    "        return \"Could not convert string to float\"\n",
    "    except ZeroDivisionError:\n",
    "        return \"Zero Division Error\""
   ]
  },
  {
   "attachments": {},
   "cell_type": "markdown",
   "metadata": {},
   "source": [
    "## Task 6\n",
    "Write  the function check_positive(number) whose input parameter is a number. The function checks whether the  set number is positive or negative:\n",
    "\n",
    "* in the case of a positive number the function should be displayed the corresponding message - \" You input positive number: input parameter of function\";\n",
    "* in the case of a negative parameter the function should be raised the exception of your own class MyError and displayed the corresponding message - \"You input negative number: input parameter of function. Try again.\";\n",
    "* in the case of incorrect data the function should be displayed the message - \"Error type: ValueError!\"\n",
    "\n",
    "##### **SOLUTION:**"
   ]
  },
  {
   "cell_type": "code",
   "execution_count": null,
   "metadata": {},
   "outputs": [],
   "source": [
    "class MyError(Exception):\n",
    "    pass\n",
    "def check_positive(number):\n",
    "    try:\n",
    "        number=float(number)\n",
    "        if number>=0:\n",
    "            return f\"You input positive number: {number}\"\n",
    "        elif number<0:\n",
    "            raise MyError \n",
    "    except ValueError:\n",
    "        return \"Error type: ValueError!\"\n",
    "    except MyError:\n",
    "        return f\"You input negative number: {number}. Try again.\"\n",
    "        "
   ]
  },
  {
   "attachments": {},
   "cell_type": "markdown",
   "metadata": {},
   "source": [
    "## Task 7\n",
    "Write  the function day_of_week(day) whose input parameter is a number or string representation of number. The function returns the corresponding day of the week if the input parameter is in the range of 1 to 7, namely\n",
    "\n",
    "* in the case when the input parameter is 5 the function should be displayed the message – \"Friday\"\n",
    "* in the case when the input parameter is not in the range of 1 to 7 the function should be displayed the message – \"There is no such day of the week! Please try again.\"\n",
    "* in the case of incorrect data the function should be displayed the message - \"You did not enter a number! Please try again.\"\n",
    "\n",
    "Note: in the function you must use the \"try except\" construct.\n",
    "\n",
    "##### **SOLUTION:**"
   ]
  },
  {
   "cell_type": "code",
   "execution_count": null,
   "metadata": {},
   "outputs": [],
   "source": [
    "def day_of_week(day):\n",
    "    days=['Monday','Tuesday','Wednesday','Thursday','Friday','Saturday','Sunday']\n",
    "    try:\n",
    "        day=int(day)\n",
    "        if day>7 or day<1:\n",
    "            raise Exception\n",
    "        else:\n",
    "            return days[day-1]\n",
    "    except ValueError:\n",
    "        return \"You did not enter a number! Please try again.\"\n",
    "    except Exception:\n",
    "        return \"There is no such day of the week! Please try again.\""
   ]
  }
 ],
 "metadata": {
  "kernelspec": {
   "display_name": "Python 3",
   "language": "python",
   "name": "python3"
  },
  "language_info": {
   "name": "python",
   "version": "3.10.4 (tags/v3.10.4:9d38120, Mar 23 2022, 23:13:41) [MSC v.1929 64 bit (AMD64)]"
  },
  "orig_nbformat": 4,
  "vscode": {
   "interpreter": {
    "hash": "8728e009dc4827959d0cd0ea26bc6c3b22d334d9e49d904647d9110e18c0d7ef"
   }
  }
 },
 "nbformat": 4,
 "nbformat_minor": 2
}
