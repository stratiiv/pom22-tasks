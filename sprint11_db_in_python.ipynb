{
 "cells": [
  {
   "attachments": {},
   "cell_type": "markdown",
   "metadata": {},
   "source": [
    "# Sprint 11. Data Base in Python"
   ]
  },
  {
   "attachments": {},
   "cell_type": "markdown",
   "metadata": {},
   "source": [
    "## Task 1\n",
    "Create a Python program to use the sqlite database named \"q1.db\". The query to the database should display information, as shown in the example below, including phrases: about the successful connection, the total number of records, the actual records, the record of closing the database. From the table of \"customers\" to deduce all records for which in a \"grade\" field of value more than 200 with sort ordering on id\n",
    "\n",
    "\n",
    "For example output:\n",
    "\n",
    "Connected to SQLite\n",
    "\n",
    "Total rows are:   2\n",
    "\n",
    "Printing each row\n",
    "\n",
    "Id:  3022\n",
    "\n",
    "Name:  Nik Rimando\n",
    "\n",
    "City:  Madrid\n",
    "\n",
    "Grade:  1000\n",
    "\n",
    "Seller:  6001\n",
    "\n",
    "Id:  3025\n",
    "\n",
    "Name:  Grem Zusisa\n",
    "\n",
    "City:  USA\n",
    "\n",
    "Grade:  2000\n",
    "\n",
    "Seller:  6002\n",
    "\n",
    "\n",
    "The SQLite connection is closed\n",
    "\n",
    "##### **SOLUTION:**"
   ]
  },
  {
   "cell_type": "code",
   "execution_count": null,
   "metadata": {},
   "outputs": [],
   "source": [
    "import sqlite3\n",
    "connection=sqlite3.connect('q1.db')\n",
    "print(\"Connected to SQLite\")\n",
    "cursor=connection.cursor()\n",
    "cursor.execute(\"SELECT * FROM customers WHERE grade>200 ORDER BY ID \")\n",
    "rows=cursor.fetchall()\n",
    "print(f\"Total rows are:   {len(rows)}\")\n",
    "print(\"Printing each row\")\n",
    "for row in rows:\n",
    "    print(f'Id:  {row[0]}')\n",
    "    print(f'Name:  {row[1]}')\n",
    "    print(f'City:  {row[2]}')\n",
    "    print(f'Grade:  {row[3]}')\n",
    "    print(f'Seller:  {row[4]}')\n",
    "    print()\n",
    "    print()\n",
    "cursor.close()\n",
    "connection.close()\n",
    "print(\"The SQLite connection is closed\")"
   ]
  }
 ],
 "metadata": {
  "kernelspec": {
   "display_name": "Python 3",
   "language": "python",
   "name": "python3"
  },
  "language_info": {
   "name": "python",
   "version": "3.10.4 (tags/v3.10.4:9d38120, Mar 23 2022, 23:13:41) [MSC v.1929 64 bit (AMD64)]"
  },
  "orig_nbformat": 4,
  "vscode": {
   "interpreter": {
    "hash": "8728e009dc4827959d0cd0ea26bc6c3b22d334d9e49d904647d9110e18c0d7ef"
   }
  }
 },
 "nbformat": 4,
 "nbformat_minor": 2
}
