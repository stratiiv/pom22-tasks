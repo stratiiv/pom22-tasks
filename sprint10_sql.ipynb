{
 "cells": [
  {
   "attachments": {},
   "cell_type": "markdown",
   "metadata": {},
   "source": [
    "# Sprint 10. Data Base\n"
   ]
  },
  {
   "attachments": {},
   "cell_type": "markdown",
   "metadata": {},
   "source": [
    "## Task 1\n",
    "Given a database with (at least) two tables: customers and orders as shown below, write an SQL query that returns the customer name, city and amount for all orders between $100 and $3500 inclusive, grouped by name and ordered by city.\n",
    "\n",
    "*result for example*\n",
    "\n",
    "| name | city | totalSum |\n",
    "| --- | --- | --- |\n",
    "| Graham | Zusi California | 261\n",
    "| Jozy Altidore | Kyiv | 2000.0|\n",
    "| Brad Guzan | London | 270.65|\n",
    "| Julian Green | London | 250.45|\n",
    "| Nick Rimando | New York | 3210.86|\n",
    "\n",
    "**First 5 rows of \"customers\" table, ordered by id**\n",
    "| id | name | city | grade | salesperson_id |\n",
    "| --- | --- | --- | --- | --- |\n",
    "3001 | Brad Guzan | London | 100 | 5005\n",
    "|3002 | Nick Rimando | New York | 100 | 5001|\n",
    "|3003 | Jozy Altidore | Kyiv | 200 | 5007\n",
    "|3004 |Fabian Johns | Paris  |   300   |  5006\n",
    "|3005  |  Graham Zusi  | California |200| 5002 \n",
    "|First |5 |rows| of| \"orders\" |table ordered |by |order_num|\n",
    "|order_num |  amount | date |  customer_id | saleperson_id |\n",
    "\n",
    "**First 5 rows of \"orders\" table ordered by order_num**\n",
    "\n",
    "|order_num |  amount  |  date    |    customer_id | saleperson_id|\n",
    "| --- | --- | --- | --- | --- |\n",
    "|70001    |   150.5    |  2022-10-05 | 3005    |     5002|\n",
    "|70002  |     65.26    |  2022-10-05  |3002     |    5001|\n",
    "|70003      | 2480.4   |  2022-10-10 | 3009     |    5003|\n",
    "|70004     |  110.5    |  2022-08-17 | 3005     |    5003|\n",
    "|70005     |  2400.6    | 2022-07-27 | 3007       |  5001|\n",
    "\n",
    "##### **SOLUTION:**"
   ]
  },
  {
   "cell_type": "code",
   "execution_count": null,
   "metadata": {
    "vscode": {
     "languageId": "sql"
    }
   },
   "outputs": [],
   "source": [
    "SELECT NAME,CITY,SUM(AMOUNT) as totalSum\n",
    "FROM CUSTOMERS, ORDERS\n",
    "WHERE CUSTOMERS.id=customer_id AND AMOUNT BETWEEN 100 AND 3500 \n",
    "GROUP BY NAME\n",
    "ORDER BY CITY"
   ]
  },
  {
   "attachments": {},
   "cell_type": "markdown",
   "metadata": {},
   "source": [
    "## Task 2\n",
    "Given a database with (at least) a table customers as shown below, write an SQL query that insert in to table new customer with  name Stefan Huk ,id 3006, city Kyiv and grade 500, salesperson_id 5007  .\n",
    "\n",
    "After insert write an SQL query that returns the all columns of all customers who live in London or Kyiv, in ascending order of id.\n",
    "\n",
    "**First 5 rows of \"customers\" table, ordered by id**\n",
    "| id | name | city | grade | salesperson_id |\n",
    "| --- | --- | --- | --- | --- |\n",
    "3001 | Brad Guzan | London | 100 | 5005\n",
    "|3002 | Nick Rimando | New York | 100 | 5001|\n",
    "|3003 | Jozy Altidore | Kyiv | 200 | 5007\n",
    "|3004 |Fabian Johns | Paris  |   300   |  5006\n",
    "|3005  |  Graham Zusi  | California |200| 5002 \n",
    "|First |5 |rows| of| \"orders\" |table ordered |by |order_num|\n",
    "|order_num |  amount | date |  customer_id | saleperson_id |\n",
    "\n",
    "##### **SOLUTION:**"
   ]
  },
  {
   "cell_type": "code",
   "execution_count": null,
   "metadata": {
    "vscode": {
     "languageId": "sql"
    }
   },
   "outputs": [],
   "source": [
    "INSERT INTO CUSTOMERS(id,name,city,grade,salesperson_id)\n",
    "VALUES(3006,'Stefan Huk','Kyiv',500,5007);\n",
    "SELECT *\n",
    "FROM CUSTOMERS\n",
    "WHERE CITY IN ('London','Kyiv')\n",
    "ORDER BY ID"
   ]
  },
  {
   "attachments": {},
   "cell_type": "markdown",
   "metadata": {},
   "source": [
    "## Task 3\n",
    "Given a database with (at least) two tables: customers and orders as shown below, write an SQL query that returns the order_num, order amount and customer name for all orders between $500 and $2000 inclusive, ordered by order_num.\n",
    "\n",
    "**First 5 rows of \"customers\" table, ordered by id**\n",
    "| id | name | city | grade | salesperson_id |\n",
    "| --- | --- | --- | --- | --- |\n",
    "3001 | Brad Guzan | London | 100 | 5005\n",
    "|3002 | Nick Rimando | New York | 100 | 5001|\n",
    "|3003 | Jozy Altidore | Kyiv | 200 | 5007\n",
    "|3004 |Fabian Johns | Paris  |   300   |  5006\n",
    "|3005  |  Graham Zusi  | California |200| 5002 \n",
    "|First |5 |rows| of| \"orders\" |table ordered |by |order_num|\n",
    "|order_num |  amount | date |  customer_id | saleperson_id |\n",
    "\n",
    "**First 5 rows of \"orders\" table ordered by order_num**\n",
    "\n",
    "|order_num |  amount  |  date    |    customer_id | saleperson_id|\n",
    "| --- | --- | --- | --- | --- |\n",
    "|70001    |   150.5    |  2022-10-05 | 3005    |     5002|\n",
    "|70002  |     65.26    |  2022-10-05  |3002     |    5001|\n",
    "|70003      | 2480.4   |  2022-10-10 | 3009     |    5003|\n",
    "|70004     |  110.5    |  2022-08-17 | 3005     |    5003|\n",
    "|70005     |  2400.6    | 2022-07-27 | 3007       |  5001|\n",
    "\n",
    "##### **SOLUTION:**"
   ]
  },
  {
   "cell_type": "code",
   "execution_count": null,
   "metadata": {
    "vscode": {
     "languageId": "sql"
    }
   },
   "outputs": [],
   "source": [
    "SELECT order_num,amount,name\n",
    "from CUSTOMERS,ORDERS\n",
    "WHERE CUSTOMERS.id=customer_id and amount BETWEEN 400 AND 2000\n",
    "ORDER BY order_num"
   ]
  },
  {
   "attachments": {},
   "cell_type": "markdown",
   "metadata": {},
   "source": [
    "## Task 4\n",
    "Given a database with (at least) a table customers as shown below, write an SQL query that returns the name, city and grade of all customers who live in London or Paris, in ascending order of name.\n",
    "\n",
    "**First 5 rows of \"customers\" table, ordered by id**\n",
    "| id | name | city | grade | salesperson_id |\n",
    "| --- | --- | --- | --- | --- |\n",
    "3001 | Brad Guzan | London | 100 | 5005\n",
    "|3002 | Nick Rimando | New York | 100 | 5001|\n",
    "|3003 | Jozy Altidore | Kyiv | 200 | 5007\n",
    "|3004 |Fabian Johns | Paris  |   300   |  5006\n",
    "|3005  |  Graham Zusi  | California |200| 5002 \n",
    "|First |5 |rows| of| \"orders\" |table ordered |by |order_num|\n",
    "|order_num |  amount | date |  customer_id | saleperson_id |\n",
    "\n",
    "##### **SOLUTION:**"
   ]
  },
  {
   "cell_type": "code",
   "execution_count": null,
   "metadata": {
    "vscode": {
     "languageId": "sql"
    }
   },
   "outputs": [],
   "source": [
    "SELECT NAME,CITY,GRADE\n",
    "FROM CUSTOMERS\n",
    "WHERE CITY IN ('London','Paris')\n",
    "ORDER BY NAME"
   ]
  },
  {
   "attachments": {},
   "cell_type": "markdown",
   "metadata": {},
   "source": [
    "## Task 5\n",
    "Given a database with (at least) a table \"customers\" as shown below, write an SQL query that Update in to \"customers\" table , a customer  named Jozy Altidore ,id 3003, from city Kyiv to city Paris and from grade 500 to grade 300 , salesperson_id 5007  .\n",
    "\n",
    "After Update write an SQL query that returns the columns name, city and grade of all customers who live in London or Paris, in ascending order of id.\n",
    "\n",
    "**First 5 rows of \"customers\" table, ordered by id**\n",
    "| id | name | city | grade | salesperson_id |\n",
    "| --- | --- | --- | --- | --- |\n",
    "3001 | Brad Guzan | London | 100 | 5005\n",
    "|3002 | Nick Rimando | New York | 100 | 5001|\n",
    "|3003 | Jozy Altidore | Kyiv | 200 | 5007\n",
    "|3004 |Fabian Johns | Paris  |   300   |  5006\n",
    "|3005  |  Graham Zusi  | California |200| 5002 \n",
    "|First |5 |rows| of| \"orders\" |table ordered |by |order_num|\n",
    "|order_num |  amount | date |  customer_id | saleperson_id |\n",
    "\n",
    "##### **SOLUTION:**\n",
    "\n"
   ]
  },
  {
   "cell_type": "code",
   "execution_count": null,
   "metadata": {
    "vscode": {
     "languageId": "sql"
    }
   },
   "outputs": [],
   "source": [
    "UPDATE CUSTOMERS\n",
    "SET city='Paris', grade=300,salesperson_id=5007\n",
    "WHERE id=3003;\n",
    "SELECT name,city,grade\n",
    "FROM CUSTOMERS\n",
    "WHERE city in ('London','Paris')\n",
    "ORDER BY id"
   ]
  }
 ],
 "metadata": {
  "kernelspec": {
   "display_name": "Python 3",
   "language": "python",
   "name": "python3"
  },
  "language_info": {
   "name": "python",
   "version": "3.10.4 (tags/v3.10.4:9d38120, Mar 23 2022, 23:13:41) [MSC v.1929 64 bit (AMD64)]"
  },
  "orig_nbformat": 4,
  "vscode": {
   "interpreter": {
    "hash": "8728e009dc4827959d0cd0ea26bc6c3b22d334d9e49d904647d9110e18c0d7ef"
   }
  }
 },
 "nbformat": 4,
 "nbformat_minor": 2
}
