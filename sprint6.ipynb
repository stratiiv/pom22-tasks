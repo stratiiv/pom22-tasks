{
 "cells": [
  {
   "attachments": {},
   "cell_type": "markdown",
   "metadata": {},
   "source": [
    "# Sprint 06. With (in, out). Serialization"
   ]
  },
  {
   "attachments": {},
   "cell_type": "markdown",
   "metadata": {},
   "source": [
    "## Task 1\n",
    "Create function find(file, key)\n",
    "This function parses json-file and returns all unique values of the key.\n",
    "\n",
    "1. json:\n",
    "[{\"name\": \"user_1”, \"password\": \"pass_1”},\n",
    "{\"name\": \"user_2”, \"password\": [\"pass_1\", \"qwerty“]} ]\n",
    "find(\"1.json\", \"password\") returns [\"pass_1\", \"qwerty\"]\n",
    "\n",
    "2. json:\n",
    "[{\"name\": \"user_1”, \"credentials\": {\"username\": \"user_user”, \"password\": \"1234qweQWE\"}}, {\"name\": \"user_2”, \"password\": [\"pass_1 \", \"qwerty \"]}]\n",
    "find(\"2.json\", \"password\") returns [\"1234qweQWE\", \"pass_1\", \"qwerty\"]\n",
    "\n",
    "3. json:\n",
    "{\"name\": \"user_1\",\"credentials\": {\"username\": \"user_user\",\"password\": \"1234qweQWE\"}}\n",
    "find(\"3.json\", \"password\") returns [\"1234qweQWE\"]\n",
    "\n",
    "##### **SOLUTION:**"
   ]
  },
  {
   "cell_type": "code",
   "execution_count": null,
   "metadata": {},
   "outputs": [],
   "source": [
    "import json\n",
    "\n",
    "def find(file,key):\n",
    "    def recursive_json(json_obj, lookup_key):\n",
    "        if isinstance(json_obj, dict):\n",
    "            for key, value in json_obj.items():\n",
    "                if key == lookup_key:\n",
    "                    output.append(value)\n",
    "                else:\n",
    "                    recursive_json(value, lookup_key)\n",
    "        elif isinstance(json_obj, list):\n",
    "            for obj in json_obj:\n",
    "                recursive_json(obj, lookup_key)\n",
    "    with open(file) as file:\n",
    "        json_obj=json.load(file)\n",
    "    output=[]\n",
    "    recursive_json(json_obj,key)\n",
    "    l=[];e=[]\n",
    "    for item in output:\n",
    "        if type(item)==list:\n",
    "            l+=[*item]\n",
    "        else:\n",
    "            e.append(item)\n",
    "    result=list(set(l+e))\n",
    "    return result"
   ]
  },
  {
   "attachments": {},
   "cell_type": "markdown",
   "metadata": {},
   "source": [
    "## Task 2\n",
    "Implement function parse_user(output_file, *input_files) for creating file that will contain only unique records (unique by key \"name\") by merging information from all input_files argument (if we find user with already existing name from previous file we should ignore it). Use pretty printing for writing users to json-file.\n",
    "\n",
    "\n",
    "If the function cannot find input files we need to log information with error level  \n",
    "\n",
    "root - ERROR - File <file name> doesn't exist\n",
    "\n",
    "For example:\n",
    "user1.json : \n",
    "[{\"name\": \"Bob1\", \"rate\": 1, “languages\": [\"English\"]},\n",
    "{\"name\": \"Bob2\", \"rate\":0.78, \"languages\": [\"English\", \"French\"]}\n",
    "]\n",
    "\n",
    "user2.json : \n",
    "[{\"name\": \"Bob1\", \"rate\": 25, “languages\": [\"French\"]},\n",
    "{\"name\": \"Bob3\", \"rate\": 78, \"languages\": [\"Germany\"]}\n",
    "]\n",
    "\n",
    "If we execute parse_user(user3.json, user1.json, user2.json)\n",
    "then file user3.json should contain information:\n",
    "[{\"name\": \"Bob1\", \"rate\": 1, “languages\": [\"English\"]},\n",
    "{\"name\": \"Bob2\", \"rate\":0.78, \"languages\": [\"English\", \"French\"]}\n",
    "{\"name\": \"Bob3\", \"rate\": 78, \"languages\": [\"Germany\"]}\n",
    "]\n",
    "\n",
    "##### **SOLUTION:**"
   ]
  },
  {
   "cell_type": "code",
   "execution_count": null,
   "metadata": {},
   "outputs": [],
   "source": [
    "import json\n",
    "import logging\n",
    "\n",
    "logging.basicConfig(filename='app.log', filemode='w', format='%(name)s - %(levelname)s - %(message)s')\n",
    "\n",
    "\n",
    "def parse_user(output_file, *input_files):\n",
    "        list_with_objects = []\n",
    "        for i in input_files:\n",
    "            filename = i\n",
    "            try:\n",
    "                with open(i, \"r\") as f:\n",
    "                    a = json.load(f)\n",
    "                    extend_list(list_with_objects, a)\n",
    "            except FileNotFoundError:\n",
    "                    logging.error(f\"File {filename} doesn't exist\");\n",
    "\n",
    "        \n",
    "        with open(output_file, \"w\") as f:\n",
    "            json.dump(list_with_objects,f, indent = 4)\n",
    "        list_with_objects.clear()\n",
    "\n",
    "\n",
    "def extend_list(list_with_values, json_parametr):\n",
    "    if type(json_parametr) is list:\n",
    "        for i in json_parametr:\n",
    "            if not any(x[\"name\"] == i[\"name\"] for x in list_with_values) and i.get(\"name\"):\n",
    "                list_with_values.append(i)\n",
    "    elif type(json_parametr) is dict:\n",
    "        if not any(x[\"name\"] == json_parametr[\"name\"] for x in list_with_values) and i.get(\"name\"):\n",
    "            list_with_values.extend(i)"
   ]
  }
 ],
 "metadata": {
  "kernelspec": {
   "display_name": "Python 3",
   "language": "python",
   "name": "python3"
  },
  "language_info": {
   "name": "python",
   "version": "3.10.4 (tags/v3.10.4:9d38120, Mar 23 2022, 23:13:41) [MSC v.1929 64 bit (AMD64)]"
  },
  "orig_nbformat": 4,
  "vscode": {
   "interpreter": {
    "hash": "8728e009dc4827959d0cd0ea26bc6c3b22d334d9e49d904647d9110e18c0d7ef"
   }
  }
 },
 "nbformat": 4,
 "nbformat_minor": 2
}
