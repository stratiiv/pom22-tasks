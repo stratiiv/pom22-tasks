{
 "cells": [
  {
   "attachments": {},
   "cell_type": "markdown",
   "metadata": {},
   "source": [
    "# Sprint 02. String. Regular Expressions."
   ]
  },
  {
   "attachments": {},
   "cell_type": "markdown",
   "metadata": {},
   "source": [
    "## Task 1\n",
    "As input data, you have a list of strings.\n",
    "\n",
    "Write a method double_string() for counting the number of strings from the list, represented in the form of the concatenation of two strings from this arguments  list\n",
    "\n"
   ]
  },
  {
   "cell_type": "code",
   "execution_count": null,
   "metadata": {},
   "outputs": [],
   "source": [
    "def double_string(data):\n",
    "    count=0\n",
    "    for i in data:\n",
    "       if any(i+j in data for j in data):\n",
    "           count+=1\n",
    "    return count\n",
    "       "
   ]
  },
  {
   "attachments": {},
   "cell_type": "markdown",
   "metadata": {},
   "source": [
    "## Task 2\n",
    "Numbers in the Morse code have the following pattern:\n",
    "\n",
    "* all digits consist of 5 characters;\n",
    "* the number of dots at the beginning indicates the numbers from 1 to 5, the remaining characters are dashes;\n",
    "* starting with the number 6, each dot is replaced by a dash and vise versa.\n",
    "Write the function morse_number() for encryption of a number in a three-digit format in Morse code.\n",
    "\n",
    "\n",
    "\n",
    "Attention!\n",
    "Do not use any collection data like lists, tuples, dictionaries for holding Morse codes"
   ]
  },
  {
   "cell_type": "code",
   "execution_count": null,
   "metadata": {},
   "outputs": [],
   "source": [
    "def morse_number(number):\n",
    "    MAX_CHAR=5\n",
    "    output=''\n",
    "    for i in number:\n",
    "        if int(i) in range(0,6):\n",
    "            dots=int(i)\n",
    "            dashes=MAX_CHAR-int(i)\n",
    "            output+=dots*'.'+dashes*'-'+' '\n",
    "        else:\n",
    "            dashes=int(i)-MAX_CHAR\n",
    "            dots=MAX_CHAR-dashes\n",
    "            output+=dashes*'-'+dots*'.'+' '\n",
    "    return output[:-1]"
   ]
  },
  {
   "attachments": {},
   "cell_type": "markdown",
   "metadata": {},
   "source": [
    "## Task 3\n",
    "The string defining the points of the quadrilateral has the next form: \"#LB1:1#RB4:1#LT1:3#RT4:3\"\n",
    "\n",
    " LB - Left Bottom point\n",
    " LT - Left Top point\n",
    " RT - Right Top point\n",
    " RB - Right Bottom point\n",
    "numbers after letters are the coordinates of a point.\n",
    "Write a function figure_perimetr() that calculates the perimeter of a quadrilateral"
   ]
  },
  {
   "cell_type": "code",
   "execution_count": null,
   "metadata": {},
   "outputs": [],
   "source": [
    "import math\n",
    "def figure_perimetr(string):\n",
    "    lb_x,lb_y,rb_x,rb_y,lt_x,lt_y,rt_x,rt_y=map(int,(filter(lambda x:x.isdigit(),string)))\n",
    "    return math.sqrt((rb_x-lb_x)**2+(rb_y-lb_y)**2)+math.sqrt((rt_x-rb_x)**2+(rt_y-rb_y)**2)+\\\n",
    "    math.sqrt((lt_x-rt_x)**2+(lt_y-rt_y)**2)+math.sqrt((lt_x-lb_x)**2+(lt_y-lb_y)**2)\n",
    "    "
   ]
  },
  {
   "attachments": {},
   "cell_type": "markdown",
   "metadata": {},
   "source": [
    "## Task 4\n",
    "As input data, you have a string that consists of words that have duplicated characters at the end of it.\n",
    "\n",
    "All duplications may be in the next format:\n",
    "\n",
    "1. wordxxxx\n",
    "2. wordxyxyxy\n",
    "3. wordxyzxyzxyz\n",
    ", where x, xy or xyz repeated ending of the word\n",
    "\n",
    "Using re module write function pretty_message() that remove all duplications"
   ]
  },
  {
   "cell_type": "code",
   "execution_count": null,
   "metadata": {},
   "outputs": [],
   "source": [
    "import re\n",
    "def pretty_message(data):\n",
    "    return re.sub(r'(\\D+?)\\1+', r'\\1',data)"
   ]
  },
  {
   "attachments": {},
   "cell_type": "markdown",
   "metadata": {},
   "source": [
    "## Task 5\n",
    "As input data you have list of strings with information about some location:\n",
    "\n",
    "\"id,name,poppulation,is_capital\",\n",
    "\"3024,eu_kyiv,24834,y\",\n",
    "\"3025,eu_volynia,20231,n\",\n",
    "\"3026,eu_galych,23745,n\",\n",
    "\"4892,me_medina,18038,n\",\n",
    "\"4401,af_cairo,18946,y\",\n",
    "\"4700,me_tabriz,13421,n\",\n",
    "\"4899,me_bagdad,22723,y\",\n",
    "\"6600,af_zulu,09720,n\"\n",
    "\n",
    "Using regular expression write method max_population() for parsing strings and get info about location with highest population "
   ]
  },
  {
   "cell_type": "code",
   "execution_count": null,
   "metadata": {},
   "outputs": [],
   "source": [
    "import re\n",
    "def max_population(data):\n",
    "    output=[]\n",
    "    for string in data:\n",
    "        output.append(re.findall(r'([a-z]{2}_[a-z]*|\\d{5})',string))\n",
    "    max_el=max(output[1:],key=lambda x:x[1])\n",
    "    max_el[1]=int(max_el[1])\n",
    "    return tuple(max_el)\n",
    "    "
   ]
  }
 ],
 "metadata": {
  "kernelspec": {
   "display_name": "Python 3",
   "language": "python",
   "name": "python3"
  },
  "language_info": {
   "name": "python",
   "version": "3.10.4 (tags/v3.10.4:9d38120, Mar 23 2022, 23:13:41) [MSC v.1929 64 bit (AMD64)]"
  },
  "orig_nbformat": 4,
  "vscode": {
   "interpreter": {
    "hash": "8728e009dc4827959d0cd0ea26bc6c3b22d334d9e49d904647d9110e18c0d7ef"
   }
  }
 },
 "nbformat": 4,
 "nbformat_minor": 2
}
